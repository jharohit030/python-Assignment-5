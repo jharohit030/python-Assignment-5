{
 "cells": [
  {
   "cell_type": "code",
   "execution_count": null,
   "id": "b70cfc5d-6e1a-4d2b-a88a-c5ee89ec357c",
   "metadata": {},
   "outputs": [],
   "source": [
    "#Question 1:\n",
    "\n",
    "Python was created by Guido van Rossum, and first released on February 20, 1991."
   ]
  },
  {
   "cell_type": "code",
   "execution_count": null,
   "id": "4b5422e5-0240-42a0-9079-d8f04e303315",
   "metadata": {},
   "outputs": [],
   "source": [
    "#Question 2:\n",
    "\n",
    "Python is an interpreted programming language, supporting object-oriented, structured, and functional programming."
   ]
  },
  {
   "cell_type": "code",
   "execution_count": null,
   "id": "310a5203-3ca6-443d-a188-a18820b993ae",
   "metadata": {},
   "outputs": [],
   "source": [
    "#Question 3:\n",
    "\n",
    "Yes, Python is case sensitive when dealing with identifiers."
   ]
  },
  {
   "cell_type": "code",
   "execution_count": null,
   "id": "40942cc9-e5ce-4043-9f31-c4e6d060f48d",
   "metadata": {},
   "outputs": [],
   "source": [
    "#Question 4:\n",
    "\n",
    "Extension for the python file is .py"
   ]
  },
  {
   "cell_type": "code",
   "execution_count": null,
   "id": "85741032-2127-4cf0-aded-93baa05323bf",
   "metadata": {},
   "outputs": [],
   "source": [
    "#Question 5:\n",
    "Python is an interpreted language, which means the source code of a Python program is converted into bytecode that is then executed by the Python virtual machine. "
   ]
  },
  {
   "cell_type": "code",
   "execution_count": null,
   "id": "daffe8ca-50bb-4e6a-9ec6-5d66a3f017d1",
   "metadata": {},
   "outputs": [],
   "source": [
    "#Question 6:\n",
    "\n",
    "A Python program is constructed from code blocks. A block is a piece of Python program text that is executed as a unit. The following are blocks: a module, a function body, and a class definition. Each command typed interactively is a block. A script file (a file given as standard input to the interpreter or specified as a command line argument to the interpreter) is a code block. "
   ]
  },
  {
   "cell_type": "code",
   "execution_count": null,
   "id": "e32c7075-7ac3-48c0-8f3f-8fa1f992e867",
   "metadata": {},
   "outputs": [],
   "source": [
    "#Question 7:\n",
    "\n",
    "We can write a single-line comment by adding a single # character before any statement or line of code."
   ]
  },
  {
   "cell_type": "code",
   "execution_count": null,
   "id": "e0dcb83c-327c-4655-8cbc-ab1b427b70d5",
   "metadata": {},
   "outputs": [],
   "source": [
    "#Question 8:\n",
    "\n",
    "The function sys. version can help us to find the version of python that we are currently working on. It also contains information on the build number and compiler used."
   ]
  },
  {
   "cell_type": "code",
   "execution_count": null,
   "id": "b18292d5-7d45-44fd-953b-f142d4a544ff",
   "metadata": {},
   "outputs": [],
   "source": [
    "#Question 9:\n",
    "\n",
    "Python supports the creation of anonymous functions (i.e. functions that are not bound to a name) at runtime, using a construct called lambda. Lambda functions are restricted to a single expression. They can be used wherever normal functions can be used."
   ]
  },
  {
   "cell_type": "code",
   "execution_count": null,
   "id": "0426390b-6032-45cd-bb98-960248205b30",
   "metadata": {},
   "outputs": [],
   "source": [
    "#Question 10:\n",
    "\n",
    "pip stands for pip Install Packages."
   ]
  },
  {
   "cell_type": "code",
   "execution_count": null,
   "id": "1af96032-7cb0-435a-982b-aae924b8cde1",
   "metadata": {},
   "outputs": [],
   "source": [
    "#Question 11:\n",
    "\n",
    "Inbuilt function in python:\n",
    "    1. abs() --> return the absolute value of the number\n",
    "    2. bool() --> return the bool value of specified object\n",
    "    3. dict() --> return a dictionary (Array)\n",
    "    4. enumerate() -->\tTakes a collection (e.g. a tuple) and returns it as an enumerate object\n",
    "    5. filter()-->\tUse a filter function to exclude items in an iterable object\n",
    "    6. float() --> Returns a floating point number\n"
   ]
  },
  {
   "cell_type": "code",
   "execution_count": null,
   "id": "bb73b1ae-1510-40ee-af36-ff0104618610",
   "metadata": {},
   "outputs": [],
   "source": [
    "#Question 12:\n",
    "\n",
    ": An identifier can have a maximum length of 79 characters in Python"
   ]
  },
  {
   "cell_type": "code",
   "execution_count": null,
   "id": "386e4774-07a2-4803-8616-18b2ae9a6b65",
   "metadata": {},
   "outputs": [],
   "source": [
    "#Question 13:\n",
    "\n",
    "Benefits of python\n",
    "\n",
    "1. Presence of third-party modules \n",
    "2. Extensive support libraries(NumPy for numerical calculations, Pandas for data analytics, etc.) \n",
    "3. Open source and large active community base \n",
    "4. Versatile, Easy to read, learn and write\n",
    "5. User-friendly data structures \n",
    "6. High-level language \n",
    "7. Dynamically typed language(No need to mention data type based on the value assigned, it takes data type) \n",
    "8. Object-Oriented and Procedural  Programming language\n",
    "9. Portable and Interactive\n",
    "10.Ideal for prototypes – provide more functionality with less coding\n"
   ]
  },
  {
   "cell_type": "code",
   "execution_count": null,
   "id": "072bd888-b503-4e05-9e33-5a7de2dc3499",
   "metadata": {},
   "outputs": [],
   "source": [
    "# Question 14:\n",
    "\n",
    "Memory management in Python involves a private heap containing all Python objects and data structures. The management of this private heap is ensured internally by the Python memory manager.\n",
    "\n"
   ]
  },
  {
   "cell_type": "code",
   "execution_count": null,
   "id": "7be4a072-d126-4db9-9d22-e6afeb610b40",
   "metadata": {},
   "outputs": [],
   "source": [
    "#Question 15:\n",
    "\n",
    "steps to install python and set path variable :\n",
    "    1.Installing Python from Python.org\n",
    "    2.Add Python 3 to the windows environment variable path\n",
    "       2.1 Let’s now edit the environment variables to add this new python 3 to the path:\n",
    "       2.2 Add the 2 new variables as follow:\n",
    "\n",
    "            C:\\Python38\\\n",
    "            C:\\Python38\\Scripts\n",
    "            then click on OK\n",
    "    3.Now open the command prompt:\n",
    "    4.When you type “python3” in the cmd, you should see the python 3 interpreter opening:\n",
    "    5.Upgrade pip to be able to install Python modules\n",
    "    6.Enter this to upgrade 'python3 -m install --upgrade pip'\n",
    "\n"
   ]
  },
  {
   "cell_type": "code",
   "execution_count": null,
   "id": "886e6221-36d5-47f8-a113-814a313c6195",
   "metadata": {},
   "outputs": [],
   "source": [
    "#Question 16:\n",
    "\n",
    "Indentation is important to Python because it's how you determine scope. Scope is how Python knows what code belongs to what part of the program."
   ]
  }
 ],
 "metadata": {
  "kernelspec": {
   "display_name": "Python 3 (ipykernel)",
   "language": "python",
   "name": "python3"
  },
  "language_info": {
   "codemirror_mode": {
    "name": "ipython",
    "version": 3
   },
   "file_extension": ".py",
   "mimetype": "text/x-python",
   "name": "python",
   "nbconvert_exporter": "python",
   "pygments_lexer": "ipython3",
   "version": "3.10.8"
  }
 },
 "nbformat": 4,
 "nbformat_minor": 5
}
